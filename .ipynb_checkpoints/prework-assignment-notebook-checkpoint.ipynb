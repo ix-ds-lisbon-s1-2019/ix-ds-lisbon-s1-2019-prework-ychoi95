{
 "cells": [
  {
   "cell_type": "markdown",
   "metadata": {},
   "source": [
    "# Prework Assignment"
   ]
  },
  {
   "cell_type": "markdown",
   "metadata": {},
   "source": [
    "### General Background Questions"
   ]
  },
  {
   "cell_type": "markdown",
   "metadata": {},
   "source": [
    "1. Why is version control important in science?"
   ]
  },
  {
   "cell_type": "code",
   "execution_count": 1,
   "metadata": {},
   "outputs": [],
   "source": [
    "# your answer here\n"
   ]
  },
  {
   "cell_type": "markdown",
   "metadata": {},
   "source": [
    "2. What kind of research artifacts can we track with Git?"
   ]
  },
  {
   "cell_type": "code",
   "execution_count": 1,
   "metadata": {},
   "outputs": [],
   "source": [
    "# your answer here"
   ]
  },
  {
   "cell_type": "markdown",
   "metadata": {},
   "source": [
    "3. What are the three main things that can go wrong in a data science project?"
   ]
  },
  {
   "cell_type": "code",
   "execution_count": 1,
   "metadata": {},
   "outputs": [],
   "source": [
    "# your answer here"
   ]
  },
  {
   "cell_type": "markdown",
   "metadata": {},
   "source": [
    "### Python Background Questions"
   ]
  },
  {
   "cell_type": "markdown",
   "metadata": {},
   "source": [
    "These short exercises are a way to familiarize yourself with python. If you find these exercises too difficult, don’t worry! We will review the basics the first day to make sure we are all comfortable coding in Python.\n",
    "\n",
    "Please save your work in this document and `git push` them to the `prework-assignment` repo.\n",
    "\n",
    "----------------------------------------------------------------"
   ]
  },
  {
   "cell_type": "markdown",
   "metadata": {},
   "source": [
    "### Problem 1: Basic Operations"
   ]
  },
  {
   "cell_type": "markdown",
   "metadata": {},
   "source": [
    "You are at Vanessa's Vegan Cafe and you loved it so much you wanna leave a tip. Write a function that takes the amount owed and calculates how much money you pay with an 18% tip. If functions still scare you, just the solution code will do."
   ]
  },
  {
   "cell_type": "code",
   "execution_count": 6,
   "metadata": {},
   "outputs": [
    {
     "data": {
      "text/plain": [
       "7.29"
      ]
     },
     "execution_count": 6,
     "metadata": {},
     "output_type": "execute_result"
    }
   ],
   "source": [
    "def tip(billAmount):\n",
    "    tipAmount = billAmount*0.18\n",
    "    return tipAmount\n",
    "tip(40.50)"
   ]
  },
  {
   "cell_type": "markdown",
   "metadata": {},
   "source": [
    "----------------------------------------------------------------"
   ]
  },
  {
   "cell_type": "markdown",
   "metadata": {},
   "source": [
    "### Problem 2: Lists"
   ]
  },
  {
   "cell_type": "markdown",
   "metadata": {},
   "source": [
    "I have a fortune cookie that says my lucky numbers are:\n",
    "\n",
    "       [23, 54, 6, 8, 10078, 3]\n",
    "\n",
    "Write a function that returns 3 lists (if functions still scare you, just the solution code will do)\n",
    "   - replace the number 6 with 1\n",
    "   - the above list in decreasing order\n",
    "   - all values greater than 15"
   ]
  },
  {
   "cell_type": "code",
   "execution_count": 50,
   "metadata": {},
   "outputs": [
    {
     "data": {
      "text/plain": [
       "([23, 54, 1, 8, 10078, 3], [10078, 54, 23, 8, 6, 3], [23, 54, 10078])"
      ]
     },
     "execution_count": 50,
     "metadata": {},
     "output_type": "execute_result"
    }
   ],
   "source": [
    "def changelist(luckynumbers):\n",
    "    list1 = luckynumbers[:]\n",
    "    for i in range(len(list1)):\n",
    "        if list1[i] == 6:\n",
    "            list1[i] = 1\n",
    "    \n",
    "    list2 = luckynumbers[:]\n",
    "    list2.sort(reverse=True)\n",
    "    \n",
    "    list3 = list()\n",
    "    for i in range(len(luckynumbers)):\n",
    "        if luckynumbers[i] > 15:\n",
    "            list3.append(luckynumbers[i])\n",
    "    return list1, list2, list3\n",
    "            \n",
    "    \n",
    "changelist([23, 54, 6, 8, 10078, 3])\n"
   ]
  },
  {
   "cell_type": "markdown",
   "metadata": {},
   "source": [
    "----------------------------------------------------------------"
   ]
  },
  {
   "cell_type": "markdown",
   "metadata": {},
   "source": [
    "### Problem 3: Basic Operations"
   ]
  },
  {
   "cell_type": "markdown",
   "metadata": {},
   "source": [
    "Let's now take the first step in coding some real data science. Write a statement that loads the `numpy` library into the interpreter and gives it an alias of `np`."
   ]
  },
  {
   "cell_type": "code",
   "execution_count": 51,
   "metadata": {},
   "outputs": [],
   "source": [
    "import numpy\n",
    "import numpy as np"
   ]
  },
  {
   "cell_type": "markdown",
   "metadata": {},
   "source": [
    "----------------------------------------------------------------"
   ]
  },
  {
   "cell_type": "markdown",
   "metadata": {},
   "source": [
    "### Problem 4: Numpy"
   ]
  },
  {
   "cell_type": "markdown",
   "metadata": {},
   "source": [
    "Generated a 10x10 `numpy` array with random numbers and slice the array to get the 2nd and 3rd column. Also calculate the average of 6th column using `numpy`."
   ]
  },
  {
   "cell_type": "code",
   "execution_count": 64,
   "metadata": {},
   "outputs": [
    {
     "name": "stdout",
     "output_type": "stream",
     "text": [
      "[[9 7 8 7 9 3 6 9 6 1]\n",
      " [2 9 1 7 0 8 1 3 2 2]\n",
      " [0 2 1 7 8 0 3 7 4 6]\n",
      " [5 9 1 0 9 6 9 0 5 2]\n",
      " [0 8 5 6 0 4 0 2 4 4]\n",
      " [4 4 4 0 8 9 8 0 4 3]\n",
      " [3 9 0 6 6 2 1 2 9 1]\n",
      " [0 5 7 8 0 0 1 2 5 5]\n",
      " [2 6 9 1 3 8 7 3 5 6]\n",
      " [7 8 4 2 0 2 3 3 5 7]]\n",
      "\n",
      "[[7 8]\n",
      " [9 1]\n",
      " [2 1]\n",
      " [9 1]\n",
      " [8 5]\n",
      " [4 4]\n",
      " [9 0]\n",
      " [5 7]\n",
      " [6 9]\n",
      " [8 4]]\n",
      "\n",
      "[3 8 0 6 4 9 2 0 8 2]\n"
     ]
    },
    {
     "data": {
      "text/plain": [
       "4.2"
      ]
     },
     "execution_count": 64,
     "metadata": {},
     "output_type": "execute_result"
    }
   ],
   "source": [
    "nparray = np.random.randint(10, size=(10, 10)) \n",
    "print(nparray)\n",
    "print()\n",
    "print(nparray[:,[1,2]])\n",
    "print()\n",
    "sixth = nparray[:,5]\n",
    "print(sixth)\n",
    "sixth.mean()"
   ]
  },
  {
   "cell_type": "markdown",
   "metadata": {},
   "source": [
    "----------------------------------------------------------------"
   ]
  },
  {
   "cell_type": "markdown",
   "metadata": {},
   "source": [
    "##### That's it! We look forward to seeing you in class!"
   ]
  }
 ],
 "metadata": {
  "kernelspec": {
   "display_name": "Python 3",
   "language": "python",
   "name": "python3"
  },
  "language_info": {
   "codemirror_mode": {
    "name": "ipython",
    "version": 3
   },
   "file_extension": ".py",
   "mimetype": "text/x-python",
   "name": "python",
   "nbconvert_exporter": "python",
   "pygments_lexer": "ipython3",
   "version": "3.7.3"
  }
 },
 "nbformat": 4,
 "nbformat_minor": 2
}
